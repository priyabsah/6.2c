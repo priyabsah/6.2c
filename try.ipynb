{
 "cells": [
  {
   "cell_type": "code",
   "execution_count": null,
   "metadata": {},
   "outputs": [],
   "source": [
    "pipeline {\n",
    "    agent any\n",
    "    stages{\n",
    "        stage(\"Build\"){\n",
    "            steps{\n",
    "                echo \"Building ...\"\n",
    "            }\n",
    "            post{\n",
    "                success{\n",
    "                    mail to: \"psahuaus@gmail.com\",\n",
    "                    subject: \"build status Email\",\n",
    "                    body: \"Build was successful\"\n",
    "                    \n",
    "                }\n",
    "            }\n",
    "        }\n",
    "    }\n",
    "}"
   ]
  }
 ],
 "metadata": {
  "language_info": {
   "name": "python"
  },
  "orig_nbformat": 4
 },
 "nbformat": 4,
 "nbformat_minor": 2
}
